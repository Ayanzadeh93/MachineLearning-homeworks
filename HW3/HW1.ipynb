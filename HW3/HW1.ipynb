{
 "cells": [
  {
   "cell_type": "code",
   "execution_count": null,
   "metadata": {
    "collapsed": true
   },
   "outputs": [],
   "source": [
    "# import the required libraries\n",
    "import os\n",
    "import itertools\n",
    "import numpy as np\n",
    "import time\n",
    "import matplotlib.pyplot as plt\n",
    "from sklearn.metrics import confusion_matrix, classification_report\n",
    "import warnings\n",
    "warnings.filterwarnings(\"ignore\")\n",
    "from sklearn.model_selection import train_test_split\n",
    "from sklearn.neighbors import KNeighborsClassifier\n",
    "from sklearn import linear_model\n",
    "from sklearn import tree\n",
    "from sklearn.neural_network import MLPClassifier\n"
   ]
  },
  {
   "cell_type": "code",
   "execution_count": null,
   "metadata": {
    "collapsed": true
   },
   "outputs": [],
   "source": [
    "\n",
    "# set the random state\n",
    "np.random.seed(seed=300)\n",
    "\n",
    "# load train and test data\n",
    "trainset = np.loadtxt(open( 'optdigits.tra'), delimiter=\",\")\n",
    "testset =np.loadtxt(open('optdigits.tes'),  delimiter=\",\")\n"
   ]
  },
  {
   "cell_type": "code",
   "execution_count": null,
   "metadata": {
    "collapsed": true
   },
   "outputs": [],
   "source": [
    "#we slide the training set and label of that from trainset and put in some matrices\n",
    "\n",
    "df_x_train=trainset[:,0:63]\n",
    "df_x_test=testset[:,0:63]\n",
    "df_y_train=trainset[:,64]\n",
    "df_y_test=testset[:,64]\n",
    "\n",
    "# spliting train set into 90% train and 10% validation set\n",
    "Xtr, Xval, ytr, yval = train_test_split(df_x_train, df_y_train, test_size=0.10)"
   ]
  },
  {
   "cell_type": "code",
   "execution_count": null,
   "metadata": {},
   "outputs": [],
   "source": []
  },
  {
   "cell_type": "code",
   "execution_count": 4,
   "metadata": {
    "collapsed": true
   },
   "outputs": [],
   "source": [
    "\n",
    "# http://scikit-learn.org/stable/auto_examples/model_selection/plot_confusion_matrix.html\n",
    "# define a function to plot confusion matrix\n",
    "def plot_confusion_matrix(cm, classes,\n",
    "                          normalize=False,\n",
    "                          title='Confusion matrix',\n",
    "                          cmap=plt.cm.Blues):\n",
    "    \"\"\"\n",
    "    This function prints and plots the confusion matrix.\n",
    "    Normalization can be applied by setting `normalize=True`.\n",
    "    \"\"\"\n",
    "    plt.figure()\n",
    "    plt.imshow(cm, interpolation='nearest', cmap=cmap)\n",
    "    plt.title(title)\n",
    "    plt.colorbar()\n",
    "    tick_marks = np.arange(len(classes))\n",
    "    plt.xticks(tick_marks, classes, rotation=45)\n",
    "    plt.yticks(tick_marks, classes)\n",
    "\n",
    "    if normalize:\n",
    "        cm = cm.astype('float') / cm.sum(axis=1)[:, np.newaxis]\n",
    "        print(\"Normalized confusion matrix\")\n",
    "    else:\n",
    "        print(title)\n",
    "\n",
    "    print(cm)\n",
    "\n",
    "    thresh = cm.max() / 2.\n",
    "    for i, j in itertools.product(range(cm.shape[0]), range(cm.shape[1])):\n",
    "        plt.text(j, i, cm[i, j],\n",
    "                 horizontalalignment=\"center\",\n",
    "                 color=\"white\" if cm[i, j] > thresh else \"black\")\n",
    "\n",
    "    plt.tight_layout()\n",
    "    plt.ylabel('True label')\n",
    "    plt.xlabel('Predicted label')\n",
    "    plt.savefig(title)\n"
   ]
  },
  {
   "cell_type": "code",
   "execution_count": 50,
   "metadata": {
    "scrolled": false
   },
   "outputs": [
    {
     "name": "stdout",
     "output_type": "stream",
     "text": [
      "Best n_neighbors: 1\n",
      "\n",
      "Validation accuracy (KNN): 0.9896\n",
      "\n",
      "Computing knn training time...\n",
      "n_neighbors: 1, training took 0.0400 seconds.\n",
      "\n",
      "Confusion Matrix of KNN (Train)\n",
      "[[376   0   0   0   0   0   0   0   0   0]\n",
      " [  0 389   0   0   0   0   0   0   0   0]\n",
      " [  0   0 380   0   0   0   0   0   0   0]\n",
      " [  0   0   0 389   0   0   0   0   0   0]\n",
      " [  0   0   0   0 387   0   0   0   0   0]\n",
      " [  0   0   0   0   0 376   0   0   0   0]\n",
      " [  0   0   0   0   0   0 377   0   0   0]\n",
      " [  0   0   0   0   0   0   0 387   0   0]\n",
      " [  0   0   0   0   0   0   0   0 380   0]\n",
      " [  0   0   0   0   0   0   0   0   0 382]]\n",
      "\n",
      "Computing knn test time...\n",
      "n_neighbors: 1 test took 2.0623 seconds.\n",
      "\n",
      "Test accuracy (KNN): 0.9800\n",
      "\n",
      "Confusion Matrix of KNN (Test)\n",
      "[[178   0   0   0   0   0   0   0   0   0]\n",
      " [  0 181   0   0   0   0   0   0   1   0]\n",
      " [  0   2 175   0   0   0   0   0   0   0]\n",
      " [  0   0   0 179   0   0   0   2   0   2]\n",
      " [  0   2   0   0 178   0   0   0   1   0]\n",
      " [  0   0   0   0   1 179   0   0   0   2]\n",
      " [  0   0   0   0   0   0 181   0   0   0]\n",
      " [  0   0   0   0   0   0   0 177   0   2]\n",
      " [  0   8   0   1   0   0   0   0 164   1]\n",
      " [  0   0   0   3   3   2   0   0   3 169]]\n",
      "The process finish.\n"
     ]
    },
    {
     "data": {
      "image/png": "[encoded data removed]",
      "text/plain": [
       "<matplotlib.figure.Figure at 0x14c1fa6a160>"
      ]
     },
     "metadata": {},
     "output_type": "display_data"
    },
    {
     "data": {
      "image/png": "[encoded data removed]",
      "text/plain": [
       "<matplotlib.figure.Figure at 0x14c1f2942b0>"
      ]
     },
     "metadata": {},
     "output_type": "display_data"
    }
   ],
   "source": [
    "\n",
    "\n",
    "k_array = np.arange(1,20,1)\n",
    "tick_label = ['0','1','2','3','4','5','6','7','8','9']\n",
    "# an empty list to store validation accuracies\n",
    "val_scores_knn = []\n",
    "\n",
    "# compute knn classifier accuracy for each k\n",
    "\n",
    "best_knn = None\n",
    "best_acc_knn = -1\n",
    "for k in k_array:\n",
    "    knn = KNeighborsClassifier(n_neighbors=k)\n",
    "    knn.fit(Xtr, ytr)\n",
    "    val_acc_knn = knn.score(Xval, yval) # accuracy for validation set\n",
    "    val_scores_knn.append(val_acc_knn)\n",
    "    if val_acc_knn > best_acc_knn:\n",
    "    \tbest_knn = knn\n",
    "    \tbest_acc_knn = val_acc_knn\n",
    "\n",
    "# choose the optimal k\n",
    "best_k = k_array[val_scores_knn.index(max(val_scores_knn))]\n",
    "\n",
    "\n",
    "print (\"Best n_neighbors: {}\\n\".format(best_k))\n",
    "\n",
    "# Best model accuracy on validation set\n",
    "print(\"Validation accuracy (KNN): {:.4f}\".format(best_knn.score(Xval, yval)))\n",
    "\n",
    "\n",
    "\n",
    "# compute knn train time\n",
    "print('\\nComputing knn training time...')\n",
    "start = time.time()\n",
    "knn = KNeighborsClassifier(n_neighbors=best_k)\n",
    "knn.fit(df_x_train, df_y_train)\n",
    "print(\"n_neighbors: {}, training took {:.4f} seconds.\\n\".format(best_k, time.time() - start))\n",
    "\n",
    "y_pred_train_knn = knn.predict(df_x_train)\n",
    "conf_knn_train = confusion_matrix(df_y_train, y_pred_train_knn)\n",
    "plot_confusion_matrix(conf_knn_train, classes=tick_label, title=\"Confusion Matrix of KNN (Train)\")\n",
    "plt.figure(1)\n",
    "\n",
    "\n",
    "\n",
    "# compute knn test time\n",
    "start = time.time()\n",
    "print('\\nComputing knn test time...')\n",
    "y_pred_test_knn = knn.predict(df_x_test)\n",
    "print(\"n_neighbors: {} test took {:.4f} seconds.\\n\".format(best_k, time.time() - start))\n",
    "print(\"Test accuracy (KNN): {:.4f}\\n\".format(knn.score(df_x_test, df_y_test)))\n",
    "\n",
    "# plot test set confusion matrix\n",
    "conf_knn_test = confusion_matrix(df_y_test, y_pred_test_knn)\n",
    "plot_confusion_matrix(conf_knn_test, classes=tick_label, title=\"Confusion Matrix of KNN (Test)\")\n",
    "#plt.figure(2)\n",
    "print(\"The process finish.\")\n",
    "plt.show()"
   ]
  },
  {
   "cell_type": "code",
   "execution_count": null,
   "metadata": {
    "collapsed": true
   },
   "outputs": [],
   "source": []
  },
  {
   "cell_type": "code",
   "execution_count": 25,
   "metadata": {},
   "outputs": [
    {
     "data": {
      "image/png": "[encoded data removed]",
      "text/plain": [
       "<matplotlib.figure.Figure at 0x14c1ee48358>"
      ]
     },
     "metadata": {},
     "output_type": "display_data"
    }
   ],
   "source": [
    "import matplotlib.pyplot as plt\n",
    "\n",
    "fig = plt.figure()\n",
    "ax = fig.add_subplot(111)\n",
    "ax.plot(k_array,val_scores_knn,'ro')\n",
    "plt.grid(True)\n",
    "\n",
    "plt.xlabel('Number of K')\n",
    "plt.ylabel('Accuracy')\n",
    "plt.title(\"Accuracy of KNN for different K\")\n",
    "plt.show()"
   ]
  },
  {
   "cell_type": "code",
   "execution_count": 7,
   "metadata": {},
   "outputs": [
    {
     "name": "stdout",
     "output_type": "stream",
     "text": [
      "best accuarcy of k for KNN: 1, training took 33.8750 seconds.\n",
      "\n",
      "worst accuarcy of k for KNN: 19, training took 33.8760 seconds.\n",
      "\n"
     ]
    }
   ],
   "source": [
    "max_accuarcy=val_scores_knn.index(max(val_scores_knn))+1\n",
    "min_accuaracy=val_scores_knn.index(min(val_scores_knn))+1\n",
    "print(\"best accuarcy of k for KNN: {}, training took {:.4f} seconds.\\n\".format(max_accuarcy, time.time() - start))\n",
    "print(\"worst accuarcy of k for KNN: {}, training took {:.4f} seconds.\\n\".format(min_accuaracy, time.time() - start))"
   ]
  },
  {
   "cell_type": "code",
   "execution_count": 35,
   "metadata": {},
   "outputs": [
    {
     "data": {
      "image/png": "[encoded data removed]",
      "text/plain": [
       "<matplotlib.figure.Figure at 0x14c1f5c6208>"
      ]
     },
     "metadata": {},
     "output_type": "display_data"
    }
   ],
   "source": [
    "class_name=[0,1,2,3,4,5,6,7,8,9]\n",
    "class_frequency=[376,389,380,389 ,387 ,376,377,387,380,382]\n",
    "    \n",
    "fig = plt.figure()\n",
    "ax = fig.add_subplot(111)\n",
    "ax.bar(class_name,class_frequency,color='green')\n",
    "#plt.grid(True)\n",
    "#plt.legend('number of K')\n",
    "plt.title(\"Frequency of each class trainset\")\n",
    "plt.show()"
   ]
  },
  {
   "cell_type": "code",
   "execution_count": 38,
   "metadata": {},
   "outputs": [
    {
     "data": {
      "image/png": "[encoded data removed]",
      "text/plain": [
       "<matplotlib.figure.Figure at 0x14c1c946eb8>"
      ]
     },
     "metadata": {},
     "output_type": "display_data"
    }
   ],
   "source": [
    "class_name=[0,1,2,3,4,5,6,7,8,9]\n",
    "class_frequency_test=[178, 182,177,183,181,182,181,179,174,180]   \n",
    "fig = plt.figure()\n",
    "ax = fig.add_subplot(111)\n",
    "ax.bar(class_name,class_frequency,color='blue')\n",
    "#plt.grid(True)\n",
    "#plt.legend('number of K')\n",
    "plt.title(\"frequency of each class of testset\")\n",
    "plt.show()"
   ]
  },
  {
   "cell_type": "code",
   "execution_count": 45,
   "metadata": {},
   "outputs": [
    {
     "name": "stdout",
     "output_type": "stream",
     "text": [
      "\n",
      "##################################################\n",
      "Hyper-parameters tunning for linear classifier...\n",
      "##################################################\n",
      "Best alpha: 1\n",
      "\n",
      "Validation accuracy (Linear classifier): 0.9687\n",
      "\n",
      "Computing linear classifier training time...\n",
      "alpha: 1, training took 0.0508 seconds.\n",
      "\n",
      "Confusion Matrix of linear classifier (Train)\n",
      "[[374   0   0   0   1   0   1   0   0   0]\n",
      " [  0 365   5   0   0   0   2   2  10   5]\n",
      " [  0   0 370   2   0   0   1   1   5   1]\n",
      " [  0   0   1 381   0   4   0   0   2   1]\n",
      " [  1   6   0   0 363   0   4   0   6   7]\n",
      " [  0   0   3   1   0 363   2   0   0   7]\n",
      " [  0   2   0   0   1   1 373   0   0   0]\n",
      " [  0   0   1   2   2   1   0 380   1   0]\n",
      " [  1  10   2   1   1   2   4   0 358   1]\n",
      " [  1   7   1   7   5   4   1   2   6 348]]\n",
      "\n",
      "Computing linear classifier test time...\n",
      "alpha: 1, test took 0.0010 seconds.\n",
      "\n",
      "Test accuracy (linear classifier): 0.9371\n",
      "\n",
      "Confusion Matrix of linear classifier (Test)\n",
      "[[174   0   0   0   1   3   0   0   0   0]\n",
      " [  0 162   4   0   0   0   2   0   6   8]\n",
      " [  0   2 174   1   0   0   0   0   0   0]\n",
      " [  0   0   0 171   0   2   0   2   5   3]\n",
      " [  0   5   0   0 173   0   0   1   2   0]\n",
      " [  1   0   0   0   0 179   1   0   0   1]\n",
      " [  0   2   0   0   2   0 176   0   1   0]\n",
      " [  0   0   0   0   2   8   0 162   3   4]\n",
      " [  0  10   0   1   0   5   2   0 151   5]\n",
      " [  0   2   0   4   3   3   0   0   6 162]]\n"
     ]
    }
   ],
   "source": [
    "##################################################\n",
    "#\t\t\t\t\t\t\t\t\t\t\t\t #\n",
    "# \t\t\tTuning the hyper-parameter for \t\t #\n",
    "#\t\t\t\tlinear discrimination:  \t\t #\n",
    "#\t\t\t\tregularization penalty\t\t\t #\n",
    "#\t\t\t\t\t\t\t\t\t\t\t\t #\n",
    "##################################################\t \n",
    "\n",
    "# set regularization penalty\n",
    "regs = [0.0001, 0.001, 0.01, 0.1, 1, 10]\n",
    "\n",
    "# an empty list to store validation accuracies\n",
    "val_scores_sgd = []\n",
    "\n",
    "# compute linear classifier accuracy for each regularization strength\n",
    "print('\\n'+50*'#')\n",
    "print('Hyper-parameters tunning for linear classifier...')\n",
    "print(50*'#')\n",
    "best_sgd = None\n",
    "best_acc_sgd = -1\n",
    "for reg in regs:\n",
    "    sgd = linear_model.SGDClassifier(alpha=reg)\n",
    "    sgd.fit(Xtr, ytr)\n",
    "    val_acc_sgd = sgd.score(Xval, yval) # accuracy for validation set\n",
    "    val_scores_sgd.append(val_acc_sgd)\n",
    "    if val_acc_sgd > best_acc_sgd:\n",
    "    \tbest_sgd = sgd\n",
    "    \tbest_acc_sgd = val_acc_sgd\n",
    "\n",
    "# choose the best regularization penalty\n",
    "best_reg = regs[val_scores_sgd.index(max(val_scores_sgd))]\n",
    "print (\"Best alpha: {}\\n\".format(best_reg))\n",
    "\n",
    "\n",
    "# Validation accuracy\n",
    "y_pred_val_sgd = best_sgd.predict(Xval)\n",
    "print(\"Validation accuracy (Linear classifier): {:.4f}\".format(best_sgd.score(Xval, yval)))\n",
    "\n",
    "\n",
    "# compute linear classifier train time\n",
    "print('\\nComputing linear classifier training time...')\n",
    "start = time.time()\n",
    "sgd = linear_model.SGDClassifier(alpha=best_reg)\n",
    "sgd.fit(df_x_train, df_y_train)\n",
    "print(\"alpha: {}, training took {:.4f} seconds.\\n\".format(best_reg, time.time() - start))\n",
    "\n",
    "# train set confusion matrix\n",
    "y_pred_train_sgd = sgd.predict(df_x_train)\n",
    "conf_sgd_train = confusion_matrix(df_y_train, y_pred_train_sgd)\n",
    "plot_confusion_matrix(conf_sgd_train, classes=tick_label,title=\"Confusion Matrix of linear classifier (Train)\")\n",
    "\n",
    "\n",
    "# compute linear classifier test time\n",
    "start = time.time()\n",
    "print('\\nComputing linear classifier test time...')\n",
    "y_pred_test_sgd = sgd.predict(df_x_test)\n",
    "print(\"alpha: {}, test took {:.4f} seconds.\\n\".format(best_reg, time.time() - start))\n",
    "print(\"Test accuracy (linear classifier): {:.4f}\\n\".format(sgd.score(df_x_test, df_y_test)))\n",
    "\n",
    "# plot test set confusion matrix\n",
    "conf_sgd_test = confusion_matrix(df_y_test, y_pred_test_sgd)\n",
    "plot_confusion_matrix(conf_sgd_test, classes=tick_label,title=\"Confusion Matrix of linear classifier (Test)\")"
   ]
  },
  {
   "cell_type": "code",
   "execution_count": 48,
   "metadata": {},
   "outputs": [
    {
     "name": "stdout",
     "output_type": "stream",
     "text": [
      "\n",
      "##################################################\n",
      "Hyper-parameters tunning for MLP...\n",
      "##################################################\n",
      "Best hidden_layer_sizes: (256, 256), Best alpha: 0.01\n",
      "\n",
      "Validation accuracy (MLP): 0.9948\n",
      "\n",
      "Computing MLP training time...\n",
      "hidden_layer_sizes: (256, 256), alpha: 0.01, training took 4.8330 seconds.\n",
      "\n",
      "Confusion Matrix of MLP (Train)\n",
      "[[376   0   0   0   0   0   0   0   0   0]\n",
      " [  0 389   0   0   0   0   0   0   0   0]\n",
      " [  0   0 380   0   0   0   0   0   0   0]\n",
      " [  0   0   0 389   0   0   0   0   0   0]\n",
      " [  0   0   0   0 387   0   0   0   0   0]\n",
      " [  0   0   0   0   0 376   0   0   0   0]\n",
      " [  0   0   0   0   0   0 377   0   0   0]\n",
      " [  0   0   0   0   0   0   0 387   0   0]\n",
      " [  0   0   0   0   0   0   0   0 380   0]\n",
      " [  0   0   0   0   0   0   0   0   0 382]]\n",
      "\n",
      "Computing MLP test time...\n",
      "hidden_layer_sizes: (256, 256), alpha: 0.01, test took 0.0180 seconds.\n",
      "Test accuracy (MLP): 0.9733\n",
      "\n",
      "Confusion Matrix of MLP (Test)\n",
      "[[178   0   0   0   0   0   0   0   0   0]\n",
      " [  0 182   0   0   0   0   0   0   0   0]\n",
      " [  0   2 174   1   0   0   0   0   0   0]\n",
      " [  0   0   1 177   0   1   0   0   2   2]\n",
      " [  0   1   0   0 178   0   0   0   2   0]\n",
      " [  0   1   0   0   0 180   0   0   0   1]\n",
      " [  0   1   0   0   2   0 177   0   1   0]\n",
      " [  0   0   0   0   1   4   0 165   2   7]\n",
      " [  0   5   1   1   0   2   0   0 164   1]\n",
      " [  1   0   0   1   1   1   0   0   2 174]]\n"
     ]
    }
   ],
   "source": [
    "##################################################\n",
    "#\t\t\t\t\t\t\t\t\t\t\t\t #\n",
    "# \t\t\tTuning the hyper-parameter:\t\t\t #\n",
    "#\t\t\t\tMultilayer perceptron\t\t\t #\n",
    "#\t\t\t\t\t\t\t\t\t\t\t\t #\n",
    "##################################################\t \n",
    "\n",
    "\n",
    "# compute mlp classifier accuracy for each set of parameters\n",
    "print('\\n'+50*'#')\n",
    "print('Hyper-parameters tunning for MLP...')\n",
    "print(50*'#')\n",
    "\n",
    "best_mlp = None\n",
    "best_acc_mlp = -1\n",
    "best_hls = []\n",
    "best_reg = []\n",
    "hls = [64, 128, 256, (64,64), (128,128), (256,256)]\n",
    "regs = [0.00001, 0.0001, 0.001, 0.01, 0.1, 1, 10]\n",
    "for hl in hls:\n",
    "    for reg in regs:\n",
    "    \tmlp = MLPClassifier(solver='adam', alpha=reg, hidden_layer_sizes=hl)\n",
    "    \tmlp.fit(Xtr, ytr)\n",
    "    \tval_acc_mlp = mlp.score(Xval, yval) # accuracy for validation set\n",
    "    \tval_scores_sgd.append(val_acc_sgd)\n",
    "    \tif val_acc_mlp > best_acc_mlp:\n",
    "    \t\tbest_mlp = mlp\n",
    "    \t\tbest_acc_mlp = val_acc_mlp\n",
    "    \t\tbest_hls = hl\n",
    "    \t\tbest_reg = reg\n",
    "\n",
    "# choose the best number of components\n",
    "#best_n_components = n_components_array[val_scores_lda.index(max(val_scores_lda))]\n",
    "\n",
    "# print best hyper-parameters\n",
    "print (\"Best hidden_layer_sizes: {}, Best alpha: {}\\n\".format(best_hls, best_reg))\n",
    "\n",
    "\n",
    "# Validation accuracy\n",
    "print(\"Validation accuracy (MLP): {:.4f}\".format(best_mlp.score(Xval, yval)))\n",
    "\n",
    "\n",
    "# compute MLP train time\n",
    "print('\\nComputing MLP training time...')\n",
    "start = time.time()\n",
    "mlp = MLPClassifier(solver='adam', alpha=best_reg, hidden_layer_sizes=best_hls)\n",
    "mlp.fit(df_x_train, df_y_train)\n",
    "print(\"hidden_layer_sizes: {}, alpha: {}, training took {:.4f} seconds.\\n\".format(best_hls, best_reg,\\\n",
    "\t\t\t\t\t\t\t\t\t\t\t\t\t\t time.time() - start))\n",
    "\n",
    "\n",
    "# plot train set confusion matrix\n",
    "y_pred_train_mlp = mlp.predict(df_x_train)\n",
    "conf_mlp_train = confusion_matrix(df_y_train, y_pred_train_mlp)\n",
    "plot_confusion_matrix(conf_mlp_train, classes=tick_label,title=\"Confusion Matrix of MLP (Train)\")\n",
    "\n",
    "\n",
    "# compute MLP test time\n",
    "start = time.time()\n",
    "print('\\nComputing MLP test time...')\n",
    "y_pred_test_mlp = mlp.predict(df_x_test)\n",
    "print(\"hidden_layer_sizes: {}, alpha: {}, test took {:.4f} seconds.\".format(best_hls, best_reg,\\\n",
    "\t\t\t\t\t\t\t\t\t\t\t\t\t\t time.time() - start))\n",
    "# print test accuracy MLP\n",
    "print(\"Test accuracy (MLP): {:.4f}\\n\".format(mlp.score(df_x_test, df_y_test)))\n",
    "\n",
    "# plot test set confusion matrix\n",
    "conf_mlp_test = confusion_matrix(df_y_test, y_pred_test_mlp)\n",
    "plot_confusion_matrix(conf_mlp_test, classes=tick_label,title=\"Confusion Matrix of MLP (Test)\")"
   ]
  },
  {
   "cell_type": "code",
   "execution_count": null,
   "metadata": {
    "collapsed": true
   },
   "outputs": [],
   "source": []
  }
 ],
 "metadata": {
  "kernelspec": {
   "display_name": "Python 3",
   "language": "python",
   "name": "python3"
  },
  "language_info": {
   "codemirror_mode": {
    "name": "ipython",
    "version": 3
   },
   "file_extension": ".py",
   "mimetype": "text/x-python",
   "name": "python",
   "nbconvert_exporter": "python",
   "pygments_lexer": "ipython3",
   "version": "3.6.3"
  }
 },
 "nbformat": 4,
 "nbformat_minor": 2
}
