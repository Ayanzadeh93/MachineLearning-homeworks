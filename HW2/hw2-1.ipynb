{
 "cells": [
  {
   "cell_type": "markdown",
   "metadata": {},
   "source": [
    "please open the jupyter notebook with this command:(because we will have limited reaching error in normal condition.)\n",
    "\n",
    "\n",
    "jupyter notebook --NotebookApp.iopub_data_rate_limit=10000000000"
   ]
  },
  {
   "cell_type": "code",
   "execution_count": 1,
   "metadata": {},
   "outputs": [
    {
     "name": "stderr",
     "output_type": "stream",
     "text": [
      "Loading required package: lattice\n",
      "Loading required package: ggplot2\n"
     ]
    }
   ],
   "source": [
    "library(caret) "
   ]
  },
  {
   "cell_type": "markdown",
   "metadata": {},
   "source": [
    "# Q1"
   ]
  },
  {
   "cell_type": "code",
   "execution_count": 2,
   "metadata": {
    "collapsed": true
   },
   "outputs": [],
   "source": [
    "train_data<-read.table(\"optdigits.tra\", sep =\",\" )"
   ]
  },
  {
   "cell_type": "code",
   "execution_count": 3,
   "metadata": {
    "collapsed": true
   },
   "outputs": [],
   "source": [
    "test_data<-read.table(\"optdigits.tes\", sep = \",\")"
   ]
  },
  {
   "cell_type": "code",
   "execution_count": 4,
   "metadata": {
    "collapsed": true
   },
   "outputs": [],
   "source": [
    "y_train=matrix(train_data[,65], nrow=3823, ncol=1)\n",
    "\n",
    "\n",
    "y_test = test_data[,65]\n",
    "df_y_t<-data.frame(y_test)\n"
   ]
  },
  {
   "cell_type": "code",
   "execution_count": 5,
   "metadata": {},
   "outputs": [
    {
     "data": {
      "text/html": [
       "<ol class=list-inline>\n",
       "\t<li>3823</li>\n",
       "\t<li>65</li>\n",
       "</ol>\n"
      ],
      "text/latex": [
       "\\begin{enumerate*}\n",
       "\\item 3823\n",
       "\\item 65\n",
       "\\end{enumerate*}\n"
      ],
      "text/markdown": [
       "1. 3823\n",
       "2. 65\n",
       "\n",
       "\n"
      ],
      "text/plain": [
       "[1] 3823   65"
      ]
     },
     "metadata": {},
     "output_type": "display_data"
    },
    {
     "data": {
      "text/html": [
       "<ol class=list-inline>\n",
       "\t<li>1797</li>\n",
       "\t<li>65</li>\n",
       "</ol>\n"
      ],
      "text/latex": [
       "\\begin{enumerate*}\n",
       "\\item 1797\n",
       "\\item 65\n",
       "\\end{enumerate*}\n"
      ],
      "text/markdown": [
       "1. 1797\n",
       "2. 65\n",
       "\n",
       "\n"
      ],
      "text/plain": [
       "[1] 1797   65"
      ]
     },
     "metadata": {},
     "output_type": "display_data"
    }
   ],
   "source": [
    "dim(train_data)\n",
    "dim(test_data)"
   ]
  },
  {
   "cell_type": "code",
   "execution_count": 6,
   "metadata": {},
   "outputs": [
    {
     "data": {
      "text/html": [
       "<ol class=list-inline>\n",
       "\t<li>1797</li>\n",
       "\t<li>64</li>\n",
       "</ol>\n"
      ],
      "text/latex": [
       "\\begin{enumerate*}\n",
       "\\item 1797\n",
       "\\item 64\n",
       "\\end{enumerate*}\n"
      ],
      "text/markdown": [
       "1. 1797\n",
       "2. 64\n",
       "\n",
       "\n"
      ],
      "text/plain": [
       "[1] 1797   64"
      ]
     },
     "metadata": {},
     "output_type": "display_data"
    }
   ],
   "source": [
    "X_test = test_data[,(1:64)]\n",
    "X_train = train_data[,(1:64)]\n",
    "dim(X_test)"
   ]
  },
  {
   "cell_type": "code",
   "execution_count": 7,
   "metadata": {},
   "outputs": [
    {
     "data": {
      "image/png": "[encoded data removed]",
      "text/plain": [
       "Plot with title “Histogram of training sets for each classes”"
      ]
     },
     "metadata": {},
     "output_type": "display_data"
    }
   ],
   "source": [
    "colors = c(\"red\", \"yellow\", \"green\", \"violet\", \"orange\", \"blue\", \"pink\", \"cyan\",\"black\",\"skyblue\")\n",
    "hist(y_train, xlim = c(-2,10), col = colors, ylim = c(0,500), main=\"Histogram of training sets for each classes\",\n",
    "     xpd=TRUE,las=2, lwd=2)\n",
    "axis(1, 0:9, las=2)"
   ]
  },
  {
   "cell_type": "code",
   "execution_count": 8,
   "metadata": {
    "collapsed": true
   },
   "outputs": [],
   "source": [
    "var_of_testset<-NULL #variance for test set\n",
    "number_of_class=10\n",
    "for (i in 1:64){ \n",
    "    var_of_testset[i]=var(X_test[,i])\n",
    "    \n",
    "}\n"
   ]
  },
  {
   "cell_type": "code",
   "execution_count": 9,
   "metadata": {
    "collapsed": true
   },
   "outputs": [],
   "source": [
    "var_of_trainset<-NULL\n",
    "number_of_class=10\n",
    "for (i in 1:64){ \n",
    "    var_of_trainset[i]=var(X_train[,i])\n",
    "    \n",
    "}\n"
   ]
  },
  {
   "cell_type": "code",
   "execution_count": null,
   "metadata": {
    "collapsed": true
   },
   "outputs": [],
   "source": []
  },
  {
   "cell_type": "code",
   "execution_count": 10,
   "metadata": {
    "collapsed": true
   },
   "outputs": [],
   "source": [
    "vectorize_var<-matrix(var_of_trainset, nrow=64, ncol=1)\n",
    "vectorize_test<-matrix(var_of_testset, nrow=64, ncol=1)#test set"
   ]
  },
  {
   "cell_type": "code",
   "execution_count": 11,
   "metadata": {
    "collapsed": true
   },
   "outputs": [],
   "source": [
    "zero_var=which(vectorize_var==0)\n",
    "zero_test=which(vectorize_test==0)\n"
   ]
  },
  {
   "cell_type": "code",
   "execution_count": 12,
   "metadata": {
    "collapsed": true
   },
   "outputs": [],
   "source": [
    "df<-data.frame(X_train)\n",
    "\n",
    "dt<-data.frame(X_test)"
   ]
  },
  {
   "cell_type": "code",
   "execution_count": 13,
   "metadata": {},
   "outputs": [
    {
     "name": "stdout",
     "output_type": "stream",
     "text": [
      "[1] \"The Feature with variance of Zero has been deleted!!\"\n",
      "[1] \"number of features:\"\n"
     ]
    },
    {
     "data": {
      "text/html": [
       "62"
      ],
      "text/latex": [
       "62"
      ],
      "text/markdown": [
       "62"
      ],
      "text/plain": [
       "[1] 62"
      ]
     },
     "metadata": {},
     "output_type": "display_data"
    },
    {
     "data": {
      "text/html": [
       "62"
      ],
      "text/latex": [
       "62"
      ],
      "text/markdown": [
       "62"
      ],
      "text/plain": [
       "[1] 62"
      ]
     },
     "metadata": {},
     "output_type": "display_data"
    }
   ],
   "source": [
    " df<-df[,-1]\n",
    " df<-df[,-39]\n",
    " dt<-dt[,-1]\n",
    " dt<-dt[,-39]\n",
    "print(\"The Feature with variance of Zero has been deleted!!\")\n",
    "print(\"number of features:\")\n",
    "ncol(df)\n",
    "ncol(dt)\n",
    "vr<-NULL"
   ]
  },
  {
   "cell_type": "code",
   "execution_count": 14,
   "metadata": {
    "collapsed": true
   },
   "outputs": [],
   "source": [
    "for(i in 1:62)\n",
    "    {\n",
    "   vr[i]<-var(df[,i])\n",
    "    \n",
    "}"
   ]
  },
  {
   "cell_type": "code",
   "execution_count": 15,
   "metadata": {
    "collapsed": true
   },
   "outputs": [],
   "source": [
    "ss=matrix(nrow = 10,ncol = 62)\n"
   ]
  },
  {
   "cell_type": "code",
   "execution_count": 16,
   "metadata": {
    "collapsed": true
   },
   "outputs": [],
   "source": [
    "#train_classify<-NULL\n",
    "#y_sample<-NULL\n",
    "mean_matrix=matrix(0,nrow=10,ncol =62)\n",
    "CovarianceMatrix <- array(0, dim=c(10,62,62))\n",
    "\n",
    "#freqency_of_casses=matrix(NA, nrow=10,ncol = 1)\n",
    "common_co=matrix(0,nrow = 62,ncol = 62)\n",
    "df_y_sample<-NULL\n",
    "nume_of_e_class<-matrix(0,nrow = 10,ncol = 1)"
   ]
  },
  {
   "cell_type": "code",
   "execution_count": 17,
   "metadata": {
    "collapsed": true
   },
   "outputs": [],
   "source": [
    "#jupyter notebook --NotebookApp.iopub_data_rate_limit=10000000000\n",
    "mean_matrix<-matrix(1,nrow=10,ncol =62)\n",
    "\n",
    "arr0 <- array(1, dim=c(10,62,62))\n",
    "\n",
    "\n",
    "for(j in 0:9)\n",
    "    {\n",
    "    train_classify<-df[df_y_sample[i,1],]\n",
    "    \n",
    "y_sample<-which(y_train==j)\n",
    "    \n",
    "df_y_sample<-data.frame(y_sample)\n",
    "k=nrow(df_y_sample)\n",
    "nume_of_e_class[j+1,1]<-nrow(df_y_sample) #store the number of each class data point frequency   \n",
    "\n",
    "for(i in 1:k)\n",
    "    {\n",
    "    \n",
    "    train_classify[i,]<-df[df_y_sample[i,1],]\n",
    "\n",
    "}\n",
    "    c<-train_classify\n",
    "     mean_matrix[j+1,]<-apply(train_classify,2,mean)\n",
    "\n",
    "  SubtractedMatrix<-NULL\n",
    "  SubtractedMatrix = matrix(0, nrow = k, ncol = 62)\n",
    "  \n",
    "    \n",
    "    \n",
    "  for(i in 1:k)\n",
    "  {\n",
    "    SubtractedMatrix[i,]=as.matrix(train_classify[i,]-mean_matrix[j+1,])\n",
    "  }\n",
    "  #Generating Covariance matrix\n",
    "  CovarianceMatrix[j+1,,]<-as.matrix(t(SubtractedMatrix))%*%as.matrix(SubtractedMatrix)/k\n",
    "\n",
    "   \n",
    "   \n",
    "    y_sample<-NULL\n",
    "    \n",
    "     }"
   ]
  },
  {
   "cell_type": "code",
   "execution_count": 18,
   "metadata": {
    "scrolled": true
   },
   "outputs": [
    {
     "data": {
      "text/html": [
       "<ol class=list-inline>\n",
       "\t<li>10</li>\n",
       "\t<li>62</li>\n",
       "\t<li>62</li>\n",
       "</ol>\n"
      ],
      "text/latex": [
       "\\begin{enumerate*}\n",
       "\\item 10\n",
       "\\item 62\n",
       "\\item 62\n",
       "\\end{enumerate*}\n"
      ],
      "text/markdown": [
       "1. 10\n",
       "2. 62\n",
       "3. 62\n",
       "\n",
       "\n"
      ],
      "text/plain": [
       "[1] 10 62 62"
      ]
     },
     "metadata": {},
     "output_type": "display_data"
    }
   ],
   "source": [
    "dim(CovarianceMatrix)"
   ]
  },
  {
   "cell_type": "code",
   "execution_count": 19,
   "metadata": {
    "collapsed": true
   },
   "outputs": [],
   "source": [
    "pri_prob<-matrix(0,nrow = 10,ncol = 1)"
   ]
  },
  {
   "cell_type": "code",
   "execution_count": 20,
   "metadata": {
    "collapsed": true
   },
   "outputs": [],
   "source": [
    "#priror probability of class for commoncovariance\n",
    "c_freq<-c(376, 389, 380,389,387,376,377,387,380,382) \n",
    "#pri_prob<-matrix(0,nrow = 10,ncol = 1)\n",
    "Num_sample=3823\n",
    "for(i in 0:9)\n",
    "    {\n",
    "    pri_prob[i+1,1]<-c_freq[i+1]/Num_sample\n",
    "}"
   ]
  },
  {
   "cell_type": "code",
   "execution_count": 21,
   "metadata": {
    "collapsed": true
   },
   "outputs": [],
   "source": [
    "p_diag=matrix(1:62,ncol =1,nrow = 62)"
   ]
  },
  {
   "cell_type": "code",
   "execution_count": 22,
   "metadata": {
    "collapsed": true
   },
   "outputs": [],
   "source": [
    "#common covariance\n",
    "\n",
    "common_co=matrix(0,nrow = 62,ncol = 62)\n",
    "for(i in 0:9)\n",
    "    {\n",
    "    common_co<-common_co+(pri_prob[i+1,1]*CovarianceMatrix[i+1,,])\n",
    "}\n"
   ]
  },
  {
   "cell_type": "code",
   "execution_count": 23,
   "metadata": {
    "collapsed": true
   },
   "outputs": [],
   "source": [
    "mean_co<-mean(diag(common_co))\n",
    "df_diag_co<-data.frame(diag(common_co))"
   ]
  },
  {
   "cell_type": "code",
   "execution_count": 24,
   "metadata": {},
   "outputs": [
    {
     "data": {
      "text/html": [
       "11.0324388015813"
      ],
      "text/latex": [
       "11.0324388015813"
      ],
      "text/markdown": [
       "11.0324388015813"
      ],
      "text/plain": [
       "[1] 11.03244"
      ]
     },
     "metadata": {},
     "output_type": "display_data"
    }
   ],
   "source": [
    "mean_co"
   ]
  },
  {
   "cell_type": "code",
   "execution_count": 25,
   "metadata": {
    "collapsed": true,
    "scrolled": true
   },
   "outputs": [],
   "source": [
    "\n",
    "diag_com1<-data.frame(diag(common_co))\n",
    "var_com=apply(diag_com1,2,mean)\n"
   ]
  },
  {
   "cell_type": "code",
   "execution_count": 26,
   "metadata": {},
   "outputs": [
    {
     "data": {
      "text/html": [
       "<ol class=list-inline>\n",
       "\t<li>10</li>\n",
       "\t<li>62</li>\n",
       "</ol>\n"
      ],
      "text/latex": [
       "\\begin{enumerate*}\n",
       "\\item 10\n",
       "\\item 62\n",
       "\\end{enumerate*}\n"
      ],
      "text/markdown": [
       "1. 10\n",
       "2. 62\n",
       "\n",
       "\n"
      ],
      "text/plain": [
       "[1] 10 62"
      ]
     },
     "metadata": {},
     "output_type": "display_data"
    }
   ],
   "source": [
    "dim(mean_matrix)\n"
   ]
  },
  {
   "cell_type": "code",
   "execution_count": 27,
   "metadata": {
    "collapsed": true
   },
   "outputs": [],
   "source": [
    "#discriminant function\n",
    "discriminant_fu <- function(X, M, S, P) {\n",
    "    \n",
    "g = matrix(0,nrow = 3823,ncol = 10)\n",
    "   for (i in 0:9){\n",
    "       \n",
    "   \n",
    "       \n",
    "   g[,i+1] = -1/2 * sum(((as.matrix(t(X)) - as.vector(M[i+1]))^2)/S) +  log10(P[i+1])\n",
    "       \n",
    "     \n",
    "       \n",
    "          \n",
    "\n",
    "}\n",
    "    return (g) \n",
    "  \n",
    "}\n"
   ]
  },
  {
   "cell_type": "code",
   "execution_count": 28,
   "metadata": {
    "collapsed": true
   },
   "outputs": [],
   "source": [
    "discriminant_fu <- function(TrainData_X, MeanData, VarianceData, PriorData)\n",
    "{\n",
    "  g = matrix(0,nrow = dim(TrainData_X)[1],ncol = 10)\n",
    "  for(i in 0:9)\n",
    "  {\n",
    "    mean_tmp <- as.vector(MeanData[i+1,])\n",
    "    g[,i+1] = -(1/2) * colSums(((as.matrix(t(TrainData_X)) - mean_tmp)^2)/VarianceData)+log(PriorData[i+1])\n",
    "\n",
    "  }\n",
    "  return(g)\n",
    "}"
   ]
  },
  {
   "cell_type": "code",
   "execution_count": 29,
   "metadata": {},
   "outputs": [
    {
     "data": {
      "text/html": [
       "<ol class=list-inline>\n",
       "\t<li>3823</li>\n",
       "\t<li>62</li>\n",
       "</ol>\n"
      ],
      "text/latex": [
       "\\begin{enumerate*}\n",
       "\\item 3823\n",
       "\\item 62\n",
       "\\end{enumerate*}\n"
      ],
      "text/markdown": [
       "1. 3823\n",
       "2. 62\n",
       "\n",
       "\n"
      ],
      "text/plain": [
       "[1] 3823   62"
      ]
     },
     "metadata": {},
     "output_type": "display_data"
    }
   ],
   "source": [
    "dim(df)"
   ]
  },
  {
   "cell_type": "code",
   "execution_count": 30,
   "metadata": {
    "collapsed": true
   },
   "outputs": [],
   "source": [
    "#finding the discriminant in two mode (Q1a and Q1b)\n",
    "g_train = discriminant_fu(df, mean_matrix, diag(common_co), pri_prob)\n",
    "g_train2 = discriminant_fu(dt, mean_matrix, diag(common_co), pri_prob)\n",
    "g_train3 = discriminant_fu(df, mean_matrix, mean_co, pri_prob)\n",
    "g_train4 = discriminant_fu(dt, mean_matrix, mean_co, pri_prob)#test mode"
   ]
  },
  {
   "cell_type": "code",
   "execution_count": 31,
   "metadata": {
    "collapsed": true
   },
   "outputs": [],
   "source": [
    "df_g<-data.frame(g_train)\n",
    "gmax<-apply(df_g,1,max)\n",
    "max_g<-matrix(0,nrow =3823,ncol = 1 )\n",
    "max_g_t<-matrix(0,nrow = 1797,ncol = 1)\n",
    "num_train<-3823\n",
    "max_g1<-matrix(0,nrow =3823,ncol = 1 )\n",
    "max_g_t1<-matrix(0,nrow = 1797,ncol = 1)\n",
    "nume_of_testset=1797\n",
    "numee_of_trainset=3823"
   ]
  },
  {
   "cell_type": "code",
   "execution_count": 32,
   "metadata": {},
   "outputs": [
    {
     "name": "stdout",
     "output_type": "stream",
     "text": [
      "[1] \"rate of error for whole classes\"\n",
      "[1] 0.08579649\n",
      "[1] \"Accuracy of whole classes for training data:\"\n",
      "[1] 0.9142035\n"
     ]
    }
   ],
   "source": [
    "\n",
    "for(i in 1:3823) #for train set \n",
    "    {\n",
    "   max_g[i,1]<-which.max(g_train[i,]) # find the maximum of g for each row\n",
    "}\n",
    "train_output<-max_g-1\n",
    "counter=0\n",
    "for(i in 1:3823)\n",
    "    {\n",
    "    if(train_output[i,1]==y_train[i,1]){ #find the number of true prediction\n",
    "      counter=counter+1  \n",
    "    }\n",
    "    \n",
    "}\n",
    "\n",
    "accuracy=counter/numee_of_trainset\n",
    "error=1-accuracy\n",
    "\n",
    "print(\"rate of error for whole classes\")\n",
    "print(error)\n",
    "print(\"Accuracy of whole classes for training data:\")\n",
    "print(accuracy)\n",
    "for(j in 0:9)\n",
    "    {\n",
    "    \n",
    "    \n",
    " \n",
    "}\n",
    "\n"
   ]
  },
  {
   "cell_type": "code",
   "execution_count": 33,
   "metadata": {},
   "outputs": [
    {
     "data": {
      "text/html": [
       "<ol class=list-inline>\n",
       "\t<li>3823</li>\n",
       "\t<li>1</li>\n",
       "</ol>\n"
      ],
      "text/latex": [
       "\\begin{enumerate*}\n",
       "\\item 3823\n",
       "\\item 1\n",
       "\\end{enumerate*}\n"
      ],
      "text/markdown": [
       "1. 3823\n",
       "2. 1\n",
       "\n",
       "\n"
      ],
      "text/plain": [
       "[1] 3823    1"
      ]
     },
     "metadata": {},
     "output_type": "display_data"
    },
    {
     "data": {
      "text/html": [
       "<ol class=list-inline>\n",
       "\t<li>3823</li>\n",
       "\t<li>1</li>\n",
       "</ol>\n"
      ],
      "text/latex": [
       "\\begin{enumerate*}\n",
       "\\item 3823\n",
       "\\item 1\n",
       "\\end{enumerate*}\n"
      ],
      "text/markdown": [
       "1. 3823\n",
       "2. 1\n",
       "\n",
       "\n"
      ],
      "text/plain": [
       "[1] 3823    1"
      ]
     },
     "metadata": {},
     "output_type": "display_data"
    }
   ],
   "source": [
    "expected<-as.matrix(y_train)\n",
    "dim(expected)\n",
    "dim(expected)\n"
   ]
  },
  {
   "cell_type": "code",
   "execution_count": 34,
   "metadata": {},
   "outputs": [
    {
     "data": {
      "text/plain": [
       "Confusion Matrix and Statistics\n",
       "\n",
       "          Reference\n",
       "Prediction   0   1   2   3   4   5   6   7   8   9\n",
       "         0 373   0   0   0   1   0   0   0   1   1\n",
       "         1   0 333   1   0   3   1   5   3  19   7\n",
       "         2   0  16 346   2   0   0   0   2   0   2\n",
       "         3   0   1   2 358   0   3   0   1   3  14\n",
       "         4   1   0   0   0 340   2   1   1   2   7\n",
       "         5   0   0   0   5   6 324   0   1   2   3\n",
       "         6   1   4   0   0   3   0 370   0   3   0\n",
       "         7   0   2   4   7  20   2   0 376   0  14\n",
       "         8   0  17  20   5   6   0   1   2 343   2\n",
       "         9   1  16   7  12   8  44   0   1   7 332\n",
       "\n",
       "Overall Statistics\n",
       "                                          \n",
       "               Accuracy : 0.9142          \n",
       "                 95% CI : (0.9049, 0.9229)\n",
       "    No Information Rate : 0.1018          \n",
       "    P-Value [Acc > NIR] : < 2.2e-16       \n",
       "                                          \n",
       "                  Kappa : 0.9047          \n",
       " Mcnemar's Test P-Value : NA              \n",
       "\n",
       "Statistics by Class:\n",
       "\n",
       "                     Class: 0 Class: 1 Class: 2 Class: 3 Class: 4 Class: 5\n",
       "Sensitivity           0.99202  0.85604  0.91053  0.92031  0.87855  0.86170\n",
       "Specificity           0.99913  0.98864  0.99361  0.99301  0.99593  0.99507\n",
       "Pos Pred Value        0.99202  0.89516  0.94022  0.93717  0.96045  0.95015\n",
       "Neg Pred Value        0.99913  0.98377  0.99016  0.99099  0.98645  0.98507\n",
       "Prevalence            0.09835  0.10175  0.09940  0.10175  0.10123  0.09835\n",
       "Detection Rate        0.09757  0.08710  0.09050  0.09364  0.08894  0.08475\n",
       "Detection Prevalence  0.09835  0.09731  0.09626  0.09992  0.09260  0.08920\n",
       "Balanced Accuracy     0.99558  0.92234  0.95207  0.95666  0.93724  0.92839\n",
       "                     Class: 6 Class: 7 Class: 8 Class: 9\n",
       "Sensitivity           0.98143  0.97158  0.90263  0.86911\n",
       "Specificity           0.99681  0.98574  0.98461  0.97210\n",
       "Pos Pred Value        0.97113  0.88471  0.86616  0.77570\n",
       "Neg Pred Value        0.99797  0.99676  0.98920  0.98527\n",
       "Prevalence            0.09861  0.10123  0.09940  0.09992\n",
       "Detection Rate        0.09678  0.09835  0.08972  0.08684\n",
       "Detection Prevalence  0.09966  0.11117  0.10358  0.11195\n",
       "Balanced Accuracy     0.98912  0.97866  0.94362  0.92061"
      ]
     },
     "metadata": {},
     "output_type": "display_data"
    }
   ],
   "source": [
    "results6 <- confusionMatrix(data=train_output, reference=expected)\n",
    "results6"
   ]
  },
  {
   "cell_type": "code",
   "execution_count": 35,
   "metadata": {},
   "outputs": [
    {
     "data": {
      "text/html": [
       "0.893155258764608"
      ],
      "text/latex": [
       "0.893155258764608"
      ],
      "text/markdown": [
       "0.893155258764608"
      ],
      "text/plain": [
       "[1] 0.8931553"
      ]
     },
     "metadata": {},
     "output_type": "display_data"
    },
    {
     "data": {
      "text/html": [
       "1605"
      ],
      "text/latex": [
       "1605"
      ],
      "text/markdown": [
       "1605"
      ],
      "text/plain": [
       "[1] 1605"
      ]
     },
     "metadata": {},
     "output_type": "display_data"
    },
    {
     "name": "stdout",
     "output_type": "stream",
     "text": [
      "[1] \"rate of error for whole classes\"\n",
      "[1] 0.1068447\n",
      "[1] \"Accuracy of whole classes for training data:\"\n",
      "[1] 0.9142035\n"
     ]
    }
   ],
   "source": [
    "for(i in 1:1797) #for test set \n",
    "    {\n",
    "   max_g_t[i,1]<-which.max(g_train2[i,])\n",
    "}\n",
    "train_output<-max_g_t-1\n",
    "counter2=0\n",
    "for(i in 1:1797)\n",
    "    {\n",
    "    if(train_output[i,1]==df_y_t[i,1]){\n",
    "      counter2=counter2+1  \n",
    "    }\n",
    "    \n",
    "}\n",
    "\n",
    "counter2/nume_of_testset\n",
    "\n",
    "counter2\n",
    "accuracy5<-counter2/nume_of_testset\n",
    "print(\"rate of error for whole classes\")\n",
    "print(1-accuracy5)\n",
    "print(\"Accuracy of whole classes for training data:\")\n",
    "print(accuracy)\n"
   ]
  },
  {
   "cell_type": "code",
   "execution_count": 36,
   "metadata": {
    "collapsed": true
   },
   "outputs": [],
   "source": [
    "expected1<-as.matrix(df_y_t)"
   ]
  },
  {
   "cell_type": "code",
   "execution_count": 37,
   "metadata": {},
   "outputs": [
    {
     "data": {
      "text/plain": [
       "Confusion Matrix and Statistics\n",
       "\n",
       "          Reference\n",
       "Prediction   0   1   2   3   4   5   6   7   8   9\n",
       "         0 177   0   1   0   0   0   1   0   0   0\n",
       "         1   0 135   6   0   4   0   5   0  21   3\n",
       "         2   0  21 156   2   0   0   0   0   1   1\n",
       "         3   0   0   0 158   0   1   0   0   1   7\n",
       "         4   1   0   1   0 170   1   0   3   0   5\n",
       "         5   0   1   0   3   0 172   0   0   2   4\n",
       "         6   0   4   0   0   0   1 174   0   1   0\n",
       "         7   0   0   1   7   3   0   0 173   1   3\n",
       "         8   0   8  10   6   3   0   1   2 137   4\n",
       "         9   0  13   2   7   1   7   0   1  10 153\n",
       "\n",
       "Overall Statistics\n",
       "                                          \n",
       "               Accuracy : 0.8932          \n",
       "                 95% CI : (0.8779, 0.9071)\n",
       "    No Information Rate : 0.1018          \n",
       "    P-Value [Acc > NIR] : < 2.2e-16       \n",
       "                                          \n",
       "                  Kappa : 0.8813          \n",
       " Mcnemar's Test P-Value : NA              \n",
       "\n",
       "Statistics by Class:\n",
       "\n",
       "                     Class: 0 Class: 1 Class: 2 Class: 3 Class: 4 Class: 5\n",
       "Sensitivity           0.99438  0.74176  0.88136  0.86339   0.9392  0.94505\n",
       "Specificity           0.99876  0.97585  0.98457  0.99442   0.9932  0.99381\n",
       "Pos Pred Value        0.98883  0.77586  0.86188  0.94611   0.9392  0.94505\n",
       "Neg Pred Value        0.99938  0.97104  0.98700  0.98466   0.9932  0.99381\n",
       "Prevalence            0.09905  0.10128  0.09850  0.10184   0.1007  0.10128\n",
       "Detection Rate        0.09850  0.07513  0.08681  0.08792   0.0946  0.09572\n",
       "Detection Prevalence  0.09961  0.09683  0.10072  0.09293   0.1007  0.10128\n",
       "Balanced Accuracy     0.99657  0.85880  0.93296  0.92891   0.9662  0.96943\n",
       "                     Class: 6 Class: 7 Class: 8 Class: 9\n",
       "Sensitivity           0.96133  0.96648  0.78736  0.85000\n",
       "Specificity           0.99629  0.99073  0.97905  0.97464\n",
       "Pos Pred Value        0.96667  0.92021  0.80117  0.78866\n",
       "Neg Pred Value        0.99567  0.99627  0.97724  0.98316\n",
       "Prevalence            0.10072  0.09961  0.09683  0.10017\n",
       "Detection Rate        0.09683  0.09627  0.07624  0.08514\n",
       "Detection Prevalence  0.10017  0.10462  0.09516  0.10796\n",
       "Balanced Accuracy     0.97881  0.97860  0.88320  0.91232"
      ]
     },
     "metadata": {},
     "output_type": "display_data"
    }
   ],
   "source": [
    "results <- confusionMatrix(data=train_output, reference=expected1)\n",
    "results"
   ]
  },
  {
   "cell_type": "code",
   "execution_count": 38,
   "metadata": {},
   "outputs": [
    {
     "name": "stdout",
     "output_type": "stream",
     "text": [
      "[1] \"rate of error for whole classes\"\n",
      "[1] 0.0816113\n",
      "[1] \"Accuracy of whole classes for training data:\"\n",
      "[1] 0.9183887\n"
     ]
    }
   ],
   "source": [
    "counter3=0\n",
    "for(i in 1:3823) #for train set hypersphere\n",
    "    {\n",
    "   max_g1[i,1]<-which.max(g_train3[i,])\n",
    "}\n",
    "train_output3<-max_g1-1\n",
    "\n",
    "for(i in 1:3823)\n",
    "    {\n",
    "    if(train_output3[i,1]==y_train[i,1]){\n",
    "      counter3=counter3+1  \n",
    "    }\n",
    "    \n",
    "}\n",
    "\n",
    "accuracy2=counter3/numee_of_trainset\n",
    "error2=1-accuracy2\n",
    "\n",
    "print(\"rate of error for whole classes\")\n",
    "print(error2)\n",
    "print(\"Accuracy of whole classes for training data:\")\n",
    "print(accuracy2)\n",
    "for(j in 0:9)\n",
    "    {\n",
    "    \n",
    "    \n",
    "\n",
    "}\n"
   ]
  },
  {
   "cell_type": "code",
   "execution_count": 39,
   "metadata": {
    "collapsed": true
   },
   "outputs": [],
   "source": [
    "expected<-as.matrix(y_train)"
   ]
  },
  {
   "cell_type": "code",
   "execution_count": 40,
   "metadata": {},
   "outputs": [
    {
     "data": {
      "text/plain": [
       "Confusion Matrix and Statistics\n",
       "\n",
       "          Reference\n",
       "Prediction   0   1   2   3   4   5   6   7   8   9\n",
       "         0 371   0   0   0   0   0   0   0   0   0\n",
       "         1   1 338   0   2   7   1   3   2  17   6\n",
       "         2   0  13 345   2   0   2   0   0   2   0\n",
       "         3   0   1   2 357   0   3   0   1   6   8\n",
       "         4   2   0   0   0 346   2   1   2   2   8\n",
       "         5   0   0   0   5   2 322   0   0   2   3\n",
       "         6   1   4   1   0   5   1 373   0   4   0\n",
       "         7   0   2   5   5  18   0   0 378   1  15\n",
       "         8   0  11  17   6   5   0   0   3 341   2\n",
       "         9   1  20  10  12   4  45   0   1   5 340\n",
       "\n",
       "Overall Statistics\n",
       "                                          \n",
       "               Accuracy : 0.9184          \n",
       "                 95% CI : (0.9093, 0.9269)\n",
       "    No Information Rate : 0.1018          \n",
       "    P-Value [Acc > NIR] : < 2.2e-16       \n",
       "                                          \n",
       "                  Kappa : 0.9093          \n",
       " Mcnemar's Test P-Value : NA              \n",
       "\n",
       "Statistics by Class:\n",
       "\n",
       "                     Class: 0 Class: 1 Class: 2 Class: 3 Class: 4 Class: 5\n",
       "Sensitivity           0.98670  0.86889  0.90789  0.91774  0.89406  0.85638\n",
       "Specificity           1.00000  0.98864  0.99448  0.99388  0.99505  0.99652\n",
       "Pos Pred Value        1.00000  0.89655  0.94780  0.94444  0.95317  0.96407\n",
       "Neg Pred Value        0.99855  0.98520  0.98988  0.99071  0.98815  0.98452\n",
       "Prevalence            0.09835  0.10175  0.09940  0.10175  0.10123  0.09835\n",
       "Detection Rate        0.09704  0.08841  0.09024  0.09338  0.09050  0.08423\n",
       "Detection Prevalence  0.09704  0.09861  0.09521  0.09888  0.09495  0.08737\n",
       "Balanced Accuracy     0.99335  0.92877  0.95119  0.95581  0.94455  0.92645\n",
       "                     Class: 6 Class: 7 Class: 8 Class: 9\n",
       "Sensitivity           0.98939  0.97674   0.8974  0.89005\n",
       "Specificity           0.99536  0.98661   0.9872  0.97152\n",
       "Pos Pred Value        0.95887  0.89151   0.8857  0.77626\n",
       "Neg Pred Value        0.99884  0.99735   0.9887  0.98759\n",
       "Prevalence            0.09861  0.10123   0.0994  0.09992\n",
       "Detection Rate        0.09757  0.09888   0.0892  0.08894\n",
       "Detection Prevalence  0.10175  0.11091   0.1007  0.11457\n",
       "Balanced Accuracy     0.99237  0.98168   0.9423  0.93079"
      ]
     },
     "metadata": {},
     "output_type": "display_data"
    }
   ],
   "source": [
    "\n",
    "results2 <- confusionMatrix(data=train_output3, reference=expected)\n",
    "results2"
   ]
  },
  {
   "cell_type": "code",
   "execution_count": 41,
   "metadata": {},
   "outputs": [
    {
     "name": "stdout",
     "output_type": "stream",
     "text": [
      "[1] \"accuracy:\"\n",
      "[1] 0.8937117\n",
      "[1] \"error of test sets\"\n",
      "[1] 0.1062883\n"
     ]
    }
   ],
   "source": [
    "counter4=0\n",
    "for(i in 1:1797) #for test set with hyperspher\n",
    "    {\n",
    "   max_g_t1[i,1]<-which.max(g_train4[i,])\n",
    "}\n",
    "train_output4<-max_g_t1-1\n",
    "\n",
    "for(i in 1:1797)\n",
    "    {\n",
    "    if(train_output4[i,1]==df_y_t[i,1]){\n",
    "      counter4=counter4+1  \n",
    "    }\n",
    "    \n",
    "}\n",
    "#index_predict<-NULL\n",
    "#train_output<-NULL\n",
    "print(\"accuracy:\")\n",
    "accuracy4=counter4/nume_of_testset\n",
    "#train_output\n",
    "print(accuracy4)\n",
    "\n",
    "print(\"error of test sets\")\n",
    "\n",
    "error4=1-accuracy4\n",
    "print(error4)\n"
   ]
  },
  {
   "cell_type": "code",
   "execution_count": 42,
   "metadata": {
    "collapsed": true
   },
   "outputs": [],
   "source": [
    "library(caret)\n"
   ]
  },
  {
   "cell_type": "code",
   "execution_count": 43,
   "metadata": {
    "collapsed": true
   },
   "outputs": [],
   "source": [
    "expected1<-as.matrix(df_y_t)"
   ]
  },
  {
   "cell_type": "code",
   "execution_count": 44,
   "metadata": {},
   "outputs": [
    {
     "data": {
      "text/plain": [
       "Confusion Matrix and Statistics\n",
       "\n",
       "          Reference\n",
       "Prediction   0   1   2   3   4   5   6   7   8   9\n",
       "         0 175   0   1   0   0   0   1   0   0   0\n",
       "         1   0 136   6   0   8   0   3   0  19   3\n",
       "         2   0  16 157   1   0   0   0   0   1   0\n",
       "         3   0   1   2 162   0   0   0   0   1   5\n",
       "         4   2   0   0   0 165   1   0   3   0   5\n",
       "         5   1   1   0   2   0 171   0   2   3   4\n",
       "         6   0   5   0   0   0   1 175   0   1   0\n",
       "         7   0   0   2   7   3   0   0 170   1   3\n",
       "         8   0   7   5   5   4   0   2   2 138   3\n",
       "         9   0  16   4   6   1   9   0   2  10 157\n",
       "\n",
       "Overall Statistics\n",
       "                                          \n",
       "               Accuracy : 0.8937          \n",
       "                 95% CI : (0.8785, 0.9076)\n",
       "    No Information Rate : 0.1018          \n",
       "    P-Value [Acc > NIR] : < 2.2e-16       \n",
       "                                          \n",
       "                  Kappa : 0.8819          \n",
       " Mcnemar's Test P-Value : NA              \n",
       "\n",
       "Statistics by Class:\n",
       "\n",
       "                     Class: 0 Class: 1 Class: 2 Class: 3 Class: 4 Class: 5\n",
       "Sensitivity           0.98315  0.74725  0.88701  0.88525  0.91160  0.93956\n",
       "Specificity           0.99876  0.97585  0.98889  0.99442  0.99319  0.99195\n",
       "Pos Pred Value        0.98870  0.77714  0.89714  0.94737  0.93750  0.92935\n",
       "Neg Pred Value        0.99815  0.97164  0.98767  0.98708  0.99013  0.99318\n",
       "Prevalence            0.09905  0.10128  0.09850  0.10184  0.10072  0.10128\n",
       "Detection Rate        0.09738  0.07568  0.08737  0.09015  0.09182  0.09516\n",
       "Detection Prevalence  0.09850  0.09738  0.09738  0.09516  0.09794  0.10239\n",
       "Balanced Accuracy     0.99096  0.86155  0.93795  0.93983  0.95240  0.96576\n",
       "                     Class: 6 Class: 7 Class: 8 Class: 9\n",
       "Sensitivity           0.96685  0.94972  0.79310  0.87222\n",
       "Specificity           0.99567  0.99011  0.98275  0.97032\n",
       "Pos Pred Value        0.96154  0.91398  0.83133  0.76585\n",
       "Neg Pred Value        0.99628  0.99441  0.97793  0.98555\n",
       "Prevalence            0.10072  0.09961  0.09683  0.10017\n",
       "Detection Rate        0.09738  0.09460  0.07679  0.08737\n",
       "Detection Prevalence  0.10128  0.10351  0.09238  0.11408\n",
       "Balanced Accuracy     0.98126  0.96992  0.88793  0.92127"
      ]
     },
     "metadata": {},
     "output_type": "display_data"
    }
   ],
   "source": [
    "results <- confusionMatrix(data=train_output4, reference=expected1)\n",
    "results"
   ]
  },
  {
   "cell_type": "code",
   "execution_count": null,
   "metadata": {
    "collapsed": true
   },
   "outputs": [],
   "source": []
  },
  {
   "cell_type": "code",
   "execution_count": null,
   "metadata": {
    "collapsed": true
   },
   "outputs": [],
   "source": []
  },
  {
   "cell_type": "code",
   "execution_count": null,
   "metadata": {
    "collapsed": true
   },
   "outputs": [],
   "source": []
  }
 ],
 "metadata": {
  "kernelspec": {
   "display_name": "R",
   "language": "R",
   "name": "ir"
  },
  "language_info": {
   "codemirror_mode": "r",
   "file_extension": ".r",
   "mimetype": "text/x-r-source",
   "name": "R",
   "pygments_lexer": "r",
   "version": "3.4.1"
  }
 },
 "nbformat": 4,
 "nbformat_minor": 2
}
